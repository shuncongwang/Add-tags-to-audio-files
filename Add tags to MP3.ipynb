{
 "cells": [
  {
   "cell_type": "code",
   "execution_count": 2,
   "id": "0891fee5-4063-4d61-a876-5e53b7b1e5a4",
   "metadata": {},
   "outputs": [],
   "source": [
    "import os\n",
    "import deflacue\n",
    "import glob\n",
    "import music_tag\n",
    "import re"
   ]
  },
  {
   "cell_type": "code",
   "execution_count": 1,
   "id": "ef583686-ed96-4be8-829c-0e50f6fd9e72",
   "metadata": {},
   "outputs": [],
   "source": [
    "audio_ext = \"flac\" #assuming all files in flac\n",
    "parent_dir = \"/Users/u0126415/Downloads\""
   ]
  },
  {
   "cell_type": "code",
   "execution_count": 3,
   "id": "f8c2e462-c70b-4352-a163-6b9a557cd4ba",
   "metadata": {},
   "outputs": [],
   "source": [
    "example_folder = \"《鼓王》李小沛[WAV+CUE]\""
   ]
  },
  {
   "cell_type": "code",
   "execution_count": 17,
   "id": "70d7b3e9-974f-4fa8-b783-bf9ce11d7a22",
   "metadata": {},
   "outputs": [
    {
     "name": "stdout",
     "output_type": "stream",
     "text": [
      "Cue file: CDImage.cue\n",
      "Audio files: ['01 - р╧иНЁа.flac', '02 - я╪вс╟ХвЛ.flac', '03 - сФжш©╜╦Х.flac', '04 - о╥ё╗╣зр╩южубё╘.flac', '05 - юо╩╒д╔яю.flac', '06 - яТ╧ьхЩ╣Ч.flac', '07 - з╓оКжпм╗мЫн╟╢С╣дхЬЕхиЯцМж╝╡тцёнч╬║╣д╨Лмаб╥ио╣д╩ф╟ШЁ╞й╔уъцгаТтзо╕яТобдгЁак╪╣д╫ес║║╙н╙фТй╬иЯ╣дСПят║╒гЩ╦од╖╣д╨зс╟║╒уПЦ╓нрцг╣даИ╩Й║╒╪╓юЬнрцг╣дпдаИж╝иЯць║╒╨Й╢С║╒в╞яо║╒╦ъ╧С╨мвЁю╚╣д╧диЫ╪╟хЩ╟яЁ╛мя╨ЛЁ╬║╒спй╔м╫ж╝╬╚иЯ╣д╨Згы╤ЬвВ║ё.flac']\n",
      "Cover files: cover.jpg\n",
      " \n",
      "《鼓王》李小沛[WAV+CUE]\n",
      "['01', '02', '03', '04', '05', '06', '07']\n",
      "['夜深沉', '鸭子拌嘴', '渔舟凯歌', '戏（第一乐章）', '老虎磨牙', '阳关三叠', '冥想中通往伟大的萨迦神庙之苍茫无尽的红土路上的黄胞朝圣者们留在夕阳下那沉思的脚印―为启示神的箴言、驱赶魔的黑影、震悚我们的灵魂、激励我们的心灵之神秘、宏大、庄严、高贵和壮阔的鼓声及三把超脱红尘、有圣徒之精神的胡琴而作。']\n",
      "['李小沛', '李小沛', '李小沛', '李小沛', '李小沛', '李小沛', '李小沛']\n",
      "['01-夜深沉-李小沛.flac', '02-鸭子拌嘴-李小沛.flac', '03-渔舟凯歌-李小沛.flac', '04-戏（第一乐章）-李小沛.flac', '05-老虎磨牙-李小沛.flac', '06-阳关三叠-李小沛.flac', '07-冥想中通往伟大的萨迦神庙之苍茫无尽的红土路上的黄胞朝圣者们留在夕阳下那沉思的脚印―为启示神的箴言、驱赶魔的黑影、震悚我们的灵魂、激励我们的心灵之神秘、宏大、庄严、高贵和壮阔的鼓声及三把超脱红尘、有圣徒之精神的胡琴而作。-李小沛.flac']\n"
     ]
    }
   ],
   "source": [
    "cue_name = [x for x in os.listdir(f\"{parent_dir}/{example_folder}\") if x.endswith(\"cue\") and not x.startswith(\"~\")][0]\n",
    "\n",
    "print(f\"Cue file: {cue_name}\")\n",
    "\n",
    "cue_path = f\"{parent_dir}/{example_folder}/{cue_name}\"\n",
    "output_dir = f\"{parent_dir}/{example_folder}\"\n",
    "\n",
    "audio_names = [x for x in os.listdir(f\"{parent_dir}/{example_folder}\") if x.endswith(audio_ext)]\n",
    "audio_names.sort()\n",
    "print(f\"Audio files: {audio_names}\")\n",
    "\n",
    "cover_file = [x for x in os.listdir(f\"{parent_dir}/{example_folder}\") if x.endswith(\"jpg\")][0]\n",
    "cover_path = f\"{parent_dir}/{example_folder}/{cover_file}\"\n",
    "print(f\"Cover files: {cover_file}\")\n",
    "\n",
    "####-----------####\n",
    "print(f\" \")\n",
    "\n",
    "\n",
    "f = open(f\"{parent_dir}/{example_folder}/{cue_name}\", \"r\",encoding = \"Chinese\")\n",
    "cue_str = f.read()\n",
    "cue_str_seg = cue_str.split(\"\\n\")\n",
    "tracks = [x for x in cue_str_seg if \"TRACK\" in x]\n",
    "tracks_idx = [cue_str_seg.index(x) for x in tracks]\n",
    "\n",
    "tracks_title_idx = [x+1 for x in tracks_idx]\n",
    "tracks_artist_idx = [x+2 for x in tracks_idx]\n",
    "\n",
    "#track_num = [x[8:-6] for x in tracks]  #please avoid hard indexing\n",
    "track_num = [re.findall(r'\\d+', x)[0] for x in tracks]\n",
    "\n",
    "titles = [cue_str_seg[x].upper().split(\"TITLE\")[1][2:-1] for x in tracks_title_idx]\n",
    "\n",
    "if \"PERFORMER\" in cue_str:\n",
    "    artists = [cue_str_seg[x].upper().split(\"PERFORMER\")[1][2:-1] for x in tracks_artist_idx]\n",
    "else:\n",
    "    artists = [example_folder for x in range(len(artists))]\n",
    "    \n",
    "file_names = [f\"{num}-{track}-{artist}\" for (num,track,artist) in zip(track_num,titles,artists)]\n",
    "file_names = [f\"{x}.{audio_ext}\" for x in file_names]\n",
    "\n",
    "album = cue_str_seg[0][7:-1]\n",
    "album = example_folder\n",
    "\n",
    "print(album)\n",
    "print(track_num)\n",
    "print(titles)\n",
    "print(artists)\n",
    "print(file_names)"
   ]
  },
  {
   "cell_type": "code",
   "execution_count": 18,
   "id": "df05ebf7-a731-4958-bf2a-87fc81ba0623",
   "metadata": {},
   "outputs": [
    {
     "name": "stdout",
     "output_type": "stream",
     "text": [
      "01 - р╧иНЁа.flac\n",
      "    01 - р╧иНЁа.flac -> 01-夜深沉-李小沛.flac\n",
      "02 - я╪вс╟ХвЛ.flac\n",
      "    02 - я╪вс╟ХвЛ.flac -> 02-鸭子拌嘴-李小沛.flac\n",
      "03 - сФжш©╜╦Х.flac\n",
      "    03 - сФжш©╜╦Х.flac -> 03-渔舟凯歌-李小沛.flac\n",
      "04 - о╥ё╗╣зр╩южубё╘.flac\n",
      "    04 - о╥ё╗╣зр╩южубё╘.flac -> 04-戏（第一乐章）-李小沛.flac\n",
      "05 - юо╩╒д╔яю.flac\n",
      "    05 - юо╩╒д╔яю.flac -> 05-老虎磨牙-李小沛.flac\n",
      "06 - яТ╧ьхЩ╣Ч.flac\n",
      "    06 - яТ╧ьхЩ╣Ч.flac -> 06-阳关三叠-李小沛.flac\n",
      "07 - з╓оКжпм╗мЫн╟╢С╣дхЬЕхиЯцМж╝╡тцёнч╬║╣д╨Лмаб╥ио╣д╩ф╟ШЁ╞й╔уъцгаТтзо╕яТобдгЁак╪╣д╫ес║║╙н╙фТй╬иЯ╣дСПят║╒гЩ╦од╖╣д╨зс╟║╒уПЦ╓нрцг╣даИ╩Й║╒╪╓юЬнрцг╣дпдаИж╝иЯць║╒╨Й╢С║╒в╞яо║╒╦ъ╧С╨мвЁю╚╣д╧диЫ╪╟хЩ╟яЁ╛мя╨ЛЁ╬║╒спй╔м╫ж╝╬╚иЯ╣д╨Згы╤ЬвВ║ё.flac\n",
      "    07 - з╓оКжпм╗мЫн╟╢С╣дхЬЕхиЯцМж╝╡тцёнч╬║╣д╨Лмаб╥ио╣д╩ф╟ШЁ╞й╔уъцгаТтзо╕яТобдгЁак╪╣д╫ес║║╙н╙фТй╬иЯ╣дСПят║╒гЩ╦од╖╣д╨зс╟║╒уПЦ╓нрцг╣даИ╩Й║╒╪╓юЬнрцг╣дпдаИж╝иЯць║╒╨Й╢С║╒в╞яо║╒╦ъ╧С╨мвЁю╚╣д╧диЫ╪╟хЩ╟яЁ╛мя╨ЛЁ╬║╒спй╔м╫ж╝╬╚иЯ╣д╨Згы╤ЬвВ║ё.flac -> 07-冥想中通往伟大的萨迦神庙之苍茫无尽的红土路上的黄胞朝圣者们留在夕阳下那沉思的脚印―为启示神的箴言、驱赶魔的黑影、震悚我们的灵魂、激励我们的心灵之神秘、宏大、庄严、高贵和壮阔的鼓声及三把超脱红尘、有圣徒之精神的胡琴而作。-李小沛.flac\n"
     ]
    }
   ],
   "source": [
    "#rename file and add tags\n",
    "for file in audio_names:\n",
    "    index_str = file[:2]\n",
    "\n",
    "    if index_str in track_num:   #only track in cue list\n",
    "        print(file)\n",
    "        index = int(index_str)-1\n",
    "        title = titles[index]\n",
    "        artist = artists[index]\n",
    "\n",
    "        file_name = file_names[index]\n",
    "        try:\n",
    "            os.rename(f\"{parent_dir}/{example_folder}/{file}\",f\"{parent_dir}/{example_folder}/{file_name}\")\n",
    "            print(f\"    {file} -> {file_name}\")\n",
    "        except:\n",
    "            pass\n",
    "\n",
    "        #-----------# Add tags\n",
    "        f = music_tag.load_file(f\"{parent_dir}/{example_folder}/{file_name}\")\n",
    "\n",
    "        f['title'] = titles[index]\n",
    "        f['artist'] = artists[index]\n",
    "        f['album'] = album\n",
    "        \n",
    "        if f['artwork'] == None:\n",
    "            # set artwork\n",
    "            with open(cover_path, 'rb') as img_in:\n",
    "                f['artwork'] = img_in.read()\n",
    "            with open(cover_path, 'rb') as img_in:\n",
    "                f.append_tag('artwork', img_in.read())\n",
    "            art = f['artwork']\n",
    "            \n",
    "            # Make a thumbnail\n",
    "            art.first.thumbnail([64, 64])  # -> pillow image\n",
    "            art.first.raw_thumbnail([64, 64])  # -> b'... raw thumbnail data ...'\n",
    "        f.save()\n",
    "\n",
    "    else:\n",
    "        pass"
   ]
  },
  {
   "cell_type": "code",
   "execution_count": null,
   "id": "eef8fa1d-8129-4368-9296-2b7b1d241a04",
   "metadata": {},
   "outputs": [],
   "source": []
  }
 ],
 "metadata": {
  "kernelspec": {
   "display_name": "Python 3 (ipykernel)",
   "language": "python",
   "name": "python3"
  },
  "language_info": {
   "codemirror_mode": {
    "name": "ipython",
    "version": 3
   },
   "file_extension": ".py",
   "mimetype": "text/x-python",
   "name": "python",
   "nbconvert_exporter": "python",
   "pygments_lexer": "ipython3",
   "version": "3.10.10"
  }
 },
 "nbformat": 4,
 "nbformat_minor": 5
}
