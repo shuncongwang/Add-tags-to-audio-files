{
 "cells": [
  {
   "cell_type": "code",
   "execution_count": 106,
   "id": "0891fee5-4063-4d61-a876-5e53b7b1e5a4",
   "metadata": {},
   "outputs": [],
   "source": [
    "import os\n",
    "import deflacue\n",
    "import glob\n",
    "import music_tag\n",
    "import re"
   ]
  },
  {
   "cell_type": "code",
   "execution_count": 19,
   "id": "ef583686-ed96-4be8-829c-0e50f6fd9e72",
   "metadata": {},
   "outputs": [],
   "source": [
    "audio_ext = \"flac\" #assuming all files in flac\n",
    "parent_dir = \"/Users/Downloads/京剧\""
   ]
  },
  {
   "cell_type": "code",
   "execution_count": 100,
   "id": "f8c2e462-c70b-4352-a163-6b9a557cd4ba",
   "metadata": {},
   "outputs": [],
   "source": [
    "example_folder = \"[上海音像 CD98025] 谭富英 - 京剧大师谭富英经典唱段\""
   ]
  },
  {
   "cell_type": "code",
   "execution_count": 113,
   "id": "70d7b3e9-974f-4fa8-b783-bf9ce11d7a22",
   "metadata": {},
   "outputs": [
    {
     "name": "stdout",
     "output_type": "stream",
     "text": [
      "Cue file: 谭富英 - 京剧大师谭富英经典唱段.cue\n",
      "Audio files: ['01 - нзеХ╪г-ппб╥.flac', '02 - нзеХ╪г-сЖ╨╕ё╗р╩ё╘.flac', '03 - нзеХ╪г-сЖ╨╕ё╗╤Чё╘.flac', '04 - нзеХ╪г-╪Шеп.flac', '05 - нзеХ╪г-╧Мт╧ё╗р╩ё╘.flac', '06 - нзеХ╪г-╧Мт╧ё╗╤Чё╘.flac', '07 - нзеХ╪г-╦Фв╢.flac', '08 - иёт╟╪двс.flac', '09 - ╤╗╬Эи╫.flac', '谭富英 - 京剧大师谭富英经典唱段.flac']\n",
      "Cover files: thumb.jpg\n",
      " \n",
      "[上海音像 CD98025] 谭富英 - 京剧大师谭富英经典唱段\n",
      "['01', '02', '03', '04', '05', '06', '07', '08', '09']\n",
      "['乌盆记-行路', '乌盆记-遇害（一）', '乌盆记-遇害（二）', '乌盆记-见判', '乌盆记-鬼怨（一）', '乌盆记-鬼怨（二）', '乌盆记-告状', '桑园寄子', '定军山']\n",
      "['谭富英', '谭富英', '谭富英', '谭富英', '谭富英', '谭富英', '谭富英', '谭富英', '谭富英']\n",
      "['01-乌盆记-行路-谭富英.flac', '02-乌盆记-遇害（一）-谭富英.flac', '03-乌盆记-遇害（二）-谭富英.flac', '04-乌盆记-见判-谭富英.flac', '05-乌盆记-鬼怨（一）-谭富英.flac', '06-乌盆记-鬼怨（二）-谭富英.flac', '07-乌盆记-告状-谭富英.flac', '08-桑园寄子-谭富英.flac', '09-定军山-谭富英.flac']\n"
     ]
    }
   ],
   "source": [
    "cue_name = [x for x in os.listdir(f\"{parent_dir}/{example_folder}\") if x.endswith(\"cue\") and not x.startswith(\"~\")][0]\n",
    "\n",
    "print(f\"Cue file: {cue_name}\")\n",
    "\n",
    "cue_path = f\"{parent_dir}/{example_folder}/{cue_name}\"\n",
    "output_dir = f\"{parent_dir}/{example_folder}\"\n",
    "\n",
    "audio_names = [x for x in os.listdir(f\"{parent_dir}/{example_folder}\") if x.endswith(audio_ext)]\n",
    "audio_names.sort()\n",
    "print(f\"Audio files: {audio_names}\")\n",
    "\n",
    "cover_file = [x for x in os.listdir(f\"{parent_dir}/{example_folder}\") if x.endswith(\"jpg\")][0]\n",
    "cover_path = f\"{parent_dir}/{example_folder}/{cover_file}\"\n",
    "print(f\"Cover files: {cover_file}\")\n",
    "\n",
    "####-----------####\n",
    "print(f\" \")\n",
    "\n",
    "\n",
    "f = open(f\"{parent_dir}/{example_folder}/{cue_name}\", \"r\",encoding = \"Chinese\")\n",
    "cue_str = f.read()\n",
    "cue_str_seg = cue_str.split(\"\\n\")\n",
    "tracks = [x for x in cue_str_seg if \"TRACK\" in x]\n",
    "tracks_idx = [cue_str_seg.index(x) for x in tracks]\n",
    "\n",
    "tracks_title_idx = [x+1 for x in tracks_idx]\n",
    "tracks_artist_idx = [x+2 for x in tracks_idx]\n",
    "\n",
    "#track_num = [x[8:-6] for x in tracks]  #please avoid hard indexing\n",
    "track_num = [re.findall(r'\\d+', x)[0] for x in tracks]\n",
    "\n",
    "titles = [cue_str_seg[x].split(\" \")[1][1:-1] for x in tracks_title_idx]\n",
    "\n",
    "if \"PERFORMER\" in cue_str:\n",
    "    artists = [cue_str_seg[x].split(\" \")[1][1:-1] for x in tracks_artist_idx]\n",
    "else:\n",
    "    artists = [example_folder for x in range(len(artists))]\n",
    "    \n",
    "file_names = [f\"{num}-{track}-{artist}\" for (num,track,artist) in zip(track_num,titles,artists)]\n",
    "file_names = [f\"{x}.{audio_ext}\" for x in file_names]\n",
    "\n",
    "album = cue_str_seg[0][7:-1]\n",
    "album = example_folder\n",
    "\n",
    "print(album)\n",
    "print(track_num)\n",
    "print(titles)\n",
    "print(artists)\n",
    "print(file_names)"
   ]
  },
  {
   "cell_type": "code",
   "execution_count": 114,
   "id": "df05ebf7-a731-4958-bf2a-87fc81ba0623",
   "metadata": {},
   "outputs": [
    {
     "name": "stdout",
     "output_type": "stream",
     "text": [
      "01 - нзеХ╪г-ппб╥.flac\n",
      "    01 - нзеХ╪г-ппб╥.flac -> 01-乌盆记-行路-谭富英.flac\n",
      "02 - нзеХ╪г-сЖ╨╕ё╗р╩ё╘.flac\n",
      "    02 - нзеХ╪г-сЖ╨╕ё╗р╩ё╘.flac -> 02-乌盆记-遇害（一）-谭富英.flac\n",
      "03 - нзеХ╪г-сЖ╨╕ё╗╤Чё╘.flac\n",
      "    03 - нзеХ╪г-сЖ╨╕ё╗╤Чё╘.flac -> 03-乌盆记-遇害（二）-谭富英.flac\n",
      "04 - нзеХ╪г-╪Шеп.flac\n",
      "    04 - нзеХ╪г-╪Шеп.flac -> 04-乌盆记-见判-谭富英.flac\n",
      "05 - нзеХ╪г-╧Мт╧ё╗р╩ё╘.flac\n",
      "    05 - нзеХ╪г-╧Мт╧ё╗р╩ё╘.flac -> 05-乌盆记-鬼怨（一）-谭富英.flac\n",
      "06 - нзеХ╪г-╧Мт╧ё╗╤Чё╘.flac\n",
      "    06 - нзеХ╪г-╧Мт╧ё╗╤Чё╘.flac -> 06-乌盆记-鬼怨（二）-谭富英.flac\n",
      "07 - нзеХ╪г-╦Фв╢.flac\n",
      "    07 - нзеХ╪г-╦Фв╢.flac -> 07-乌盆记-告状-谭富英.flac\n",
      "08 - иёт╟╪двс.flac\n",
      "    08 - иёт╟╪двс.flac -> 08-桑园寄子-谭富英.flac\n",
      "09 - ╤╗╬Эи╫.flac\n",
      "    09 - ╤╗╬Эи╫.flac -> 09-定军山-谭富英.flac\n"
     ]
    }
   ],
   "source": [
    "#rename file and add tags\n",
    "for file in audio_names:\n",
    "    index_str = file[:2]\n",
    "\n",
    "    if index_str in track_num:   #only track in cue list\n",
    "        print(file)\n",
    "        index = int(index_str)-1\n",
    "        title = titles[index]\n",
    "        artist = artists[index]\n",
    "\n",
    "        file_name = file_names[index]\n",
    "        try:\n",
    "            os.rename(f\"{parent_dir}/{example_folder}/{file}\",f\"{parent_dir}/{example_folder}/{file_name}\")\n",
    "            print(f\"    {file} -> {file_name}\")\n",
    "        except:\n",
    "            pass\n",
    "\n",
    "        #-----------# Add tags\n",
    "        f = music_tag.load_file(f\"{parent_dir}/{example_folder}/{file_name}\")\n",
    "\n",
    "        f['title'] = titles[index]\n",
    "        f['artist'] = artists[index]\n",
    "        f['album'] = album\n",
    "        \n",
    "        if f['artwork'] == None:\n",
    "            # set artwork\n",
    "            with open(cover_path, 'rb') as img_in:\n",
    "                f['artwork'] = img_in.read()\n",
    "            with open(cover_path, 'rb') as img_in:\n",
    "                f.append_tag('artwork', img_in.read())\n",
    "            art = f['artwork']\n",
    "            \n",
    "            # Make a thumbnail\n",
    "            art.first.thumbnail([64, 64])  # -> pillow image\n",
    "            art.first.raw_thumbnail([64, 64])  # -> b'... raw thumbnail data ...'\n",
    "        f.save()\n",
    "\n",
    "    else:\n",
    "        pass"
   ]
  },
  {
   "cell_type": "code",
   "execution_count": null,
   "id": "eef8fa1d-8129-4368-9296-2b7b1d241a04",
   "metadata": {},
   "outputs": [],
   "source": []
  }
 ],
 "metadata": {
  "kernelspec": {
   "display_name": "Python 3 (ipykernel)",
   "language": "python",
   "name": "python3"
  },
  "language_info": {
   "codemirror_mode": {
    "name": "ipython",
    "version": 3
   },
   "file_extension": ".py",
   "mimetype": "text/x-python",
   "name": "python",
   "nbconvert_exporter": "python",
   "pygments_lexer": "ipython3",
   "version": "3.10.10"
  }
 },
 "nbformat": 4,
 "nbformat_minor": 5
}
